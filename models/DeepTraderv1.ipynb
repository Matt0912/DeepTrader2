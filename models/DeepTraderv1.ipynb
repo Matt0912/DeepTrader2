{
 "cells": [
  {
   "cell_type": "code",
   "execution_count": 1,
   "metadata": {},
   "outputs": [
    {
     "name": "stdout",
     "output_type": "stream",
     "text": [
      "TensorFlow Version: 2.1.0\n",
      "Default GPU Device: /device:GPU:0\n"
     ]
    }
   ],
   "source": [
    "from distutils.version import LooseVersion\n",
    "import warnings\n",
    "import tensorflow as tf\n",
    "\n",
    "# Check TensorFlow Version\n",
    "assert LooseVersion(tf.__version__) >= LooseVersion('1.0'), 'Please use TensorFlow version 1.0 or newer.  You are using {}'.format(tf.__version__)\n",
    "print('TensorFlow Version: {}'.format(tf.__version__))\n",
    "\n",
    "# Check for a GPU\n",
    "if not tf.test.gpu_device_name():\n",
    "    warnings.warn('No GPU found. Please ensure you have installed TensorFlow correctly')\n",
    "else:\n",
    "    print('Default GPU Device: {}'.format(tf.test.gpu_device_name()))"
   ]
  },
  {
   "cell_type": "code",
   "execution_count": 8,
   "metadata": {},
   "outputs": [
    {
     "name": "stdout",
     "output_type": "stream",
     "text": [
      "         2   3           5          6           7           8           9   \\\n",
      "0  0.112145   0   45.000000   0.255070  104.872465  104.872465  104.744930   \n",
      "1  0.301299   0  117.458519   0.981370  117.967833  117.967833  117.477148   \n",
      "2  0.544129   0   82.000000  34.233333  103.883333  103.883333   86.766667   \n",
      "3  0.801264   0   97.556111   0.256111   98.428056   98.428056   98.300000   \n",
      "4  0.853760   0   27.000000   5.614722   81.753750   81.753750   78.946389   \n",
      "5  0.068051   0   13.000000   3.900000   91.950000   91.950000   90.000000   \n",
      "6  0.272064   0   33.000000  14.000000  126.000000  126.000000  119.000000   \n",
      "7  0.382543   0  113.000000  13.000000  125.000000  125.000000  119.000000   \n",
      "8  0.809805   0   57.000000   2.000000   96.000000   96.000000   95.000000   \n",
      "9  0.991389   0   36.000000  44.000000   93.000000  100.000000   71.000000   \n",
      "\n",
      "           10        11  12  13     14        15   16  \n",
      "0  105.000000  0.000556   0  20    0.1  0.000000  104  \n",
      "1  118.458519  0.007708  -1  28  104.0  0.000000  117  \n",
      "2  121.000000  0.000486   0  22  110.0  0.057548   86  \n",
      "3   98.556111  0.000000   0  38  103.0  0.121745   98  \n",
      "4   84.561111  0.001389  -1  37  102.0  0.108490   78  \n",
      "5   93.900000  0.002778   0  18    0.0  0.000000   90  \n",
      "6  133.000000  0.001319   0  19   90.0  0.000000  119  \n",
      "7  132.000000  0.000625   0  26  103.0  0.139970  119  \n",
      "8   97.000000  0.000278   0  38  108.0  0.126592   95  \n",
      "9  115.000000  0.000625  -1  28  105.0  0.126755   71  \n"
     ]
    }
   ],
   "source": [
    "import pandas as pd\n",
    "\n",
    "full_data = pd.read_csv('result1.csv', header=None)\n",
    "data = full_data.drop(full_data.columns[0:2], axis=1)\n",
    "data = data.drop(data.columns[2], axis=1)\n",
    "\n",
    "print(data.head(10))\n"
   ]
  },
  {
   "cell_type": "code",
   "execution_count": 9,
   "metadata": {},
   "outputs": [
    {
     "name": "stdout",
     "output_type": "stream",
     "text": [
      "         2    3         5         6         7         8         9         10  \\\n",
      "0  0.110609  0.0  0.194444  0.163613  0.169275  0.149604  0.551289  0.105000   \n",
      "1  0.300105  0.0  0.596992  0.164238  0.191471  0.168285  0.618301  0.118459   \n",
      "2  0.543374  0.0  0.400000  0.192833  0.167599  0.148193  0.456667  0.121000   \n",
      "3  0.800974  0.0  0.486423  0.163614  0.158353  0.140411  0.517368  0.098556   \n",
      "4  0.853565  0.0  0.094444  0.168222  0.130091  0.116624  0.415507  0.084561   \n",
      "5  0.066435  0.0  0.016667  0.166748  0.147373  0.131170  0.473684  0.093900   \n",
      "6  0.270817  0.0  0.127778  0.175433  0.205085  0.179743  0.626316  0.133000   \n",
      "7  0.381496  0.0  0.572222  0.174573  0.203390  0.178317  0.626316  0.132000   \n",
      "8  0.809530  0.0  0.261111  0.165114  0.154237  0.136947  0.500000  0.097000   \n",
      "9  0.991443  0.0  0.144444  0.201232  0.149153  0.142653  0.373684  0.115000   \n",
      "\n",
      "         11   12        13        14        15        16  \n",
      "0  0.004620  0.5  0.292308  0.000526  0.000000  0.522222  \n",
      "1  0.064052  0.0  0.415385  0.547368  0.000000  0.594444  \n",
      "2  0.004039  0.5  0.323077  0.578947  0.057517  0.422222  \n",
      "3  0.000000  0.5  0.569231  0.542105  0.121679  0.488889  \n",
      "4  0.011542  0.0  0.553846  0.536842  0.108431  0.377778  \n",
      "5  0.023085  0.5  0.261538  0.000000  0.000000  0.444444  \n",
      "6  0.010961  0.5  0.276923  0.473684  0.000000  0.605556  \n",
      "7  0.005194  0.5  0.384615  0.542105  0.139894  0.605556  \n",
      "8  0.002310  0.5  0.569231  0.568421  0.126524  0.472222  \n",
      "9  0.005194  0.0  0.415385  0.552632  0.126686  0.338889  \n"
     ]
    }
   ],
   "source": [
    "normalised_data=(data-data.min())/(data.max()-data.min())\n",
    "print(normalised_data.head(10))"
   ]
  },
  {
   "cell_type": "code",
   "execution_count": 11,
   "metadata": {},
   "outputs": [
    {
     "name": "stdout",
     "output_type": "stream",
     "text": [
      "(344327, 13, 1)\n"
     ]
    }
   ],
   "source": [
    "from sklearn.model_selection import train_test_split\n",
    "import numpy as np\n",
    "from numpy import newaxis\n",
    "\n",
    "validation_split = 0.1\n",
    "train, validation = train_test_split(normalised_data, test_size=validation_split, shuffle=False)\n",
    "\n",
    "train_x = train.loc[:, :15]\n",
    "train_y = train.loc[:, 16]\n",
    "val_x = validation.loc[:, :15]\n",
    "val_y = validation.loc[:, 16]\n",
    "\n",
    "x_train = train_x.to_numpy()\n",
    "y_train = train_y.to_numpy()\n",
    "x_val = val_x.to_numpy()\n",
    "y_val = val_y.to_numpy()\n",
    "\n",
    "x_train = x_train[:,:, newaxis]\n",
    "x_val = x_val[:,:, newaxis]\n",
    "\n",
    "print(x_train.shape)\n"
   ]
  },
  {
   "cell_type": "code",
   "execution_count": 13,
   "metadata": {},
   "outputs": [
    {
     "name": "stdout",
     "output_type": "stream",
     "text": [
      "(344327, 13, 1)\n",
      "Train on 344327 samples, validate on 38259 samples\n",
      "Epoch 1/5\n",
      "344327/344327 [==============================] - 11s 31us/sample - loss: 0.2392 - val_loss: 0.2143\n",
      "Epoch 2/5\n",
      "344327/344327 [==============================] - 8s 24us/sample - loss: 0.1502 - val_loss: 0.1061\n",
      "Epoch 3/5\n",
      "344327/344327 [==============================] - 8s 24us/sample - loss: 0.0521 - val_loss: 0.0236\n",
      "Epoch 4/5\n",
      "344327/344327 [==============================] - 8s 24us/sample - loss: 0.0165 - val_loss: 0.0133\n",
      "Epoch 5/5\n",
      "344327/344327 [==============================] - 8s 24us/sample - loss: 0.0148 - val_loss: 0.0131\n"
     ]
    },
    {
     "ename": "NameError",
     "evalue": "name 'plt' is not defined",
     "output_type": "error",
     "traceback": [
      "\u001b[1;31m---------------------------------------------------------------------------\u001b[0m",
      "\u001b[1;31mNameError\u001b[0m                                 Traceback (most recent call last)",
      "\u001b[1;32m<ipython-input-13-82193d2d548d>\u001b[0m in \u001b[0;36m<module>\u001b[1;34m\u001b[0m\n\u001b[0;32m     19\u001b[0m \u001b[1;33m\u001b[0m\u001b[0m\n\u001b[0;32m     20\u001b[0m \u001b[1;31m# summarize history for loss\u001b[0m\u001b[1;33m\u001b[0m\u001b[1;33m\u001b[0m\u001b[1;33m\u001b[0m\u001b[0m\n\u001b[1;32m---> 21\u001b[1;33m \u001b[0mplt\u001b[0m\u001b[1;33m.\u001b[0m\u001b[0mplot\u001b[0m\u001b[1;33m(\u001b[0m\u001b[0mhistory\u001b[0m\u001b[1;33m.\u001b[0m\u001b[0mhistory\u001b[0m\u001b[1;33m[\u001b[0m\u001b[1;34m'loss'\u001b[0m\u001b[1;33m]\u001b[0m\u001b[1;33m)\u001b[0m\u001b[1;33m\u001b[0m\u001b[1;33m\u001b[0m\u001b[0m\n\u001b[0m\u001b[0;32m     22\u001b[0m \u001b[0mplt\u001b[0m\u001b[1;33m.\u001b[0m\u001b[0mtitle\u001b[0m\u001b[1;33m(\u001b[0m\u001b[1;34m'model loss'\u001b[0m\u001b[1;33m)\u001b[0m\u001b[1;33m\u001b[0m\u001b[1;33m\u001b[0m\u001b[0m\n\u001b[0;32m     23\u001b[0m \u001b[0mplt\u001b[0m\u001b[1;33m.\u001b[0m\u001b[0mylabel\u001b[0m\u001b[1;33m(\u001b[0m\u001b[1;34m'loss'\u001b[0m\u001b[1;33m)\u001b[0m\u001b[1;33m\u001b[0m\u001b[1;33m\u001b[0m\u001b[0m\n",
      "\u001b[1;31mNameError\u001b[0m: name 'plt' is not defined"
     ]
    }
   ],
   "source": [
    "from tensorflow.keras.models import Sequential\n",
    "from tensorflow.keras.layers import Dense, Dropout, LSTM#, CuDNNLSTM\n",
    "#from tensorflow.compat.v1.keras.layers import CuDNNLSTM\n",
    "\n",
    "print(x_train.shape)\n",
    "\n",
    "model = Sequential()\n",
    "model.add(LSTM(10, input_shape=(x_train.shape[1:]), return_sequences=False))\n",
    "model.add(Dropout(0.15))\n",
    "model.add(Dense(5, activation='relu'))\n",
    "model.add(Dense(3, activation='relu'))\n",
    "model.add(Dense(1, activation='relu'))\n",
    "\n",
    "opt = tf.keras.optimizers.Adam(lr=1.5e-5, decay=1e-6)\n",
    "\n",
    "model.compile(loss='mean_squared_error', optimizer=opt)\n",
    "\n",
    "history = model.fit(x_train, y_train, epochs=5, batch_size=256, validation_data=(x_val, y_val))\n",
    "\n",
    "# summarize history for loss\n",
    "plt.plot(history.history['loss'])\n",
    "plt.title('model loss')\n",
    "plt.ylabel('loss')\n",
    "plt.xlabel('epoch')\n",
    "plt.legend(['train', 'test'], loc='upper left')\n",
    "plt.show()\n",
    "\n",
    "# history = model.fit(x_train, y_train, epochs=10, batch_size=128, callbacks=callbacks_list)"
   ]
  },
  {
   "cell_type": "code",
   "execution_count": 14,
   "metadata": {},
   "outputs": [
    {
     "name": "stdout",
     "output_type": "stream",
     "text": [
      "38259/38259 [==============================] - 4s 99us/sample - loss: 0.0131\n"
     ]
    },
    {
     "ename": "TypeError",
     "evalue": "cannot unpack non-iterable numpy.float64 object",
     "output_type": "error",
     "traceback": [
      "\u001b[1;31m---------------------------------------------------------------------------\u001b[0m",
      "\u001b[1;31mTypeError\u001b[0m                                 Traceback (most recent call last)",
      "\u001b[1;32m<ipython-input-14-5fea5f2af82a>\u001b[0m in \u001b[0;36m<module>\u001b[1;34m\u001b[0m\n\u001b[1;32m----> 1\u001b[1;33m \u001b[0mtest_loss\u001b[0m\u001b[1;33m,\u001b[0m \u001b[0mtest_acc\u001b[0m \u001b[1;33m=\u001b[0m \u001b[0mmodel\u001b[0m\u001b[1;33m.\u001b[0m\u001b[0mevaluate\u001b[0m\u001b[1;33m(\u001b[0m\u001b[0mx_val\u001b[0m\u001b[1;33m,\u001b[0m  \u001b[0my_val\u001b[0m\u001b[1;33m,\u001b[0m \u001b[0mverbose\u001b[0m\u001b[1;33m=\u001b[0m\u001b[1;36m1\u001b[0m\u001b[1;33m)\u001b[0m\u001b[1;33m\u001b[0m\u001b[1;33m\u001b[0m\u001b[0m\n\u001b[0m\u001b[0;32m      2\u001b[0m \u001b[1;33m\u001b[0m\u001b[0m\n\u001b[0;32m      3\u001b[0m \u001b[0mpredictions\u001b[0m \u001b[1;33m=\u001b[0m \u001b[0mmodel\u001b[0m\u001b[1;33m.\u001b[0m\u001b[0mpredict\u001b[0m\u001b[1;33m(\u001b[0m\u001b[0mx_val\u001b[0m\u001b[1;33m)\u001b[0m\u001b[1;33m\u001b[0m\u001b[1;33m\u001b[0m\u001b[0m\n\u001b[0;32m      4\u001b[0m \u001b[0mprint\u001b[0m\u001b[1;33m(\u001b[0m\u001b[0mtest_loss\u001b[0m\u001b[1;33m)\u001b[0m\u001b[1;33m\u001b[0m\u001b[1;33m\u001b[0m\u001b[0m\n\u001b[0;32m      5\u001b[0m \u001b[1;33m\u001b[0m\u001b[0m\n",
      "\u001b[1;31mTypeError\u001b[0m: cannot unpack non-iterable numpy.float64 object"
     ]
    }
   ],
   "source": [
    "test_loss, test_acc = model.evaluate(x_val,  y_val, verbose=1) \n",
    "\n",
    "predictions = model.predict(x_val)\n",
    "print(test_loss)\n",
    "\n",
    "\n",
    "#print('Test accuracy:', test_acc)\n",
    "# for num in range(1,5):\n",
    "#     print(x_val[num])\n",
    "#     print(y_val[num])\n",
    "#     model.predict(x_val[num])"
   ]
  },
  {
   "cell_type": "code",
   "execution_count": 15,
   "metadata": {},
   "outputs": [
    {
     "ename": "NameError",
     "evalue": "name 'predictions' is not defined",
     "output_type": "error",
     "traceback": [
      "\u001b[1;31m---------------------------------------------------------------------------\u001b[0m",
      "\u001b[1;31mNameError\u001b[0m                                 Traceback (most recent call last)",
      "\u001b[1;32m<ipython-input-15-a7e46fb460ed>\u001b[0m in \u001b[0;36m<module>\u001b[1;34m\u001b[0m\n\u001b[0;32m      1\u001b[0m \u001b[1;32mfor\u001b[0m \u001b[0mnum\u001b[0m \u001b[1;32min\u001b[0m \u001b[0mrange\u001b[0m\u001b[1;33m(\u001b[0m\u001b[1;36m0\u001b[0m\u001b[1;33m,\u001b[0m \u001b[1;36m20\u001b[0m\u001b[1;33m)\u001b[0m\u001b[1;33m:\u001b[0m\u001b[1;33m\u001b[0m\u001b[1;33m\u001b[0m\u001b[0m\n\u001b[1;32m----> 2\u001b[1;33m     \u001b[0mprint\u001b[0m\u001b[1;33m(\u001b[0m\u001b[1;34m\"Actual value = \"\u001b[0m \u001b[1;33m+\u001b[0m \u001b[0mstr\u001b[0m\u001b[1;33m(\u001b[0m\u001b[0my_val\u001b[0m\u001b[1;33m[\u001b[0m\u001b[0mnum\u001b[0m\u001b[1;33m]\u001b[0m\u001b[1;33m)\u001b[0m \u001b[1;33m+\u001b[0m \u001b[1;34m\", Predicted Value = \"\u001b[0m \u001b[1;33m+\u001b[0m \u001b[0mstr\u001b[0m\u001b[1;33m(\u001b[0m\u001b[0mpredictions\u001b[0m\u001b[1;33m[\u001b[0m\u001b[0mnum\u001b[0m\u001b[1;33m]\u001b[0m\u001b[1;33m)\u001b[0m \u001b[1;33m+\u001b[0m \u001b[1;34m\", Difference = \"\u001b[0m \u001b[1;33m+\u001b[0m \u001b[0mstr\u001b[0m\u001b[1;33m(\u001b[0m\u001b[0mpredictions\u001b[0m\u001b[1;33m[\u001b[0m\u001b[0mnum\u001b[0m\u001b[1;33m]\u001b[0m\u001b[1;33m-\u001b[0m\u001b[0my_val\u001b[0m\u001b[1;33m[\u001b[0m\u001b[0mnum\u001b[0m\u001b[1;33m]\u001b[0m\u001b[1;33m)\u001b[0m\u001b[1;33m)\u001b[0m\u001b[1;33m\u001b[0m\u001b[1;33m\u001b[0m\u001b[0m\n\u001b[0m\u001b[0;32m      3\u001b[0m \u001b[1;33m\u001b[0m\u001b[0m\n",
      "\u001b[1;31mNameError\u001b[0m: name 'predictions' is not defined"
     ]
    }
   ],
   "source": [
    "for num in range(0, 20):\n",
    "    print(\"Actual value = \" + str(y_val[num]) + \", Predicted Value = \" + str(predictions[num]) + \", Difference = \" + str(predictions[num]-y_val[num]))\n",
    "    "
   ]
  },
  {
   "cell_type": "code",
   "execution_count": 6,
   "metadata": {},
   "outputs": [
    {
     "name": "stdout",
     "output_type": "stream",
     "text": [
      "[[0.18714    1.         0.5498223  0.16448841 0.17349747 0.15315765\n",
      "  0.56172116 0.108      0.0225031  0.5        0.29230769 0.\n",
      "  0.        ]]\n",
      "0.5444444444444444\n"
     ]
    },
    {
     "ename": "NameError",
     "evalue": "name 'model' is not defined",
     "output_type": "error",
     "traceback": [
      "\u001b[1;31m---------------------------------------------------------------------------\u001b[0m",
      "\u001b[1;31mNameError\u001b[0m                                 Traceback (most recent call last)",
      "\u001b[1;32m<ipython-input-6-7ec19f842477>\u001b[0m in \u001b[0;36m<module>\u001b[1;34m\u001b[0m\n\u001b[0;32m     25\u001b[0m \u001b[0mprint\u001b[0m\u001b[1;33m(\u001b[0m\u001b[0mdesired_output\u001b[0m\u001b[1;33m)\u001b[0m\u001b[1;33m\u001b[0m\u001b[1;33m\u001b[0m\u001b[0m\n\u001b[0;32m     26\u001b[0m \u001b[1;33m\u001b[0m\u001b[0m\n\u001b[1;32m---> 27\u001b[1;33m \u001b[0mnormalised_price\u001b[0m \u001b[1;33m=\u001b[0m \u001b[0mmodel\u001b[0m\u001b[1;33m.\u001b[0m\u001b[0mpredict\u001b[0m\u001b[1;33m(\u001b[0m\u001b[0mnp\u001b[0m\u001b[1;33m.\u001b[0m\u001b[0masarray\u001b[0m\u001b[1;33m(\u001b[0m\u001b[0mdata\u001b[0m\u001b[1;33m)\u001b[0m\u001b[1;33m)\u001b[0m\u001b[1;33m\u001b[0m\u001b[1;33m\u001b[0m\u001b[0m\n\u001b[0m\u001b[0;32m     28\u001b[0m \u001b[0mprint\u001b[0m\u001b[1;33m(\u001b[0m\u001b[0mnormalised_price\u001b[0m\u001b[1;33m[\u001b[0m\u001b[1;36m0\u001b[0m\u001b[1;33m]\u001b[0m\u001b[1;33m[\u001b[0m\u001b[1;36m0\u001b[0m\u001b[1;33m]\u001b[0m\u001b[1;33m)\u001b[0m\u001b[1;33m\u001b[0m\u001b[1;33m\u001b[0m\u001b[0m\n\u001b[0;32m     29\u001b[0m \u001b[0mprice\u001b[0m \u001b[1;33m=\u001b[0m \u001b[1;33m(\u001b[0m\u001b[0mnormalised_price\u001b[0m \u001b[1;33m*\u001b[0m \u001b[1;33m(\u001b[0m\u001b[1;36m190\u001b[0m \u001b[1;33m-\u001b[0m \u001b[1;36m10\u001b[0m\u001b[1;33m)\u001b[0m\u001b[1;33m)\u001b[0m \u001b[1;33m+\u001b[0m  \u001b[1;36m10\u001b[0m\u001b[1;33m\u001b[0m\u001b[1;33m\u001b[0m\u001b[0m\n",
      "\u001b[1;31mNameError\u001b[0m: name 'model' is not defined"
     ]
    }
   ],
   "source": [
    "import numpy as np\n",
    "from numpy import newaxis\n",
    "## Test on random new data to see if a similar price is produced\n",
    "\n",
    "new_data = np.asarray([[0.187140, 1, 108.968014, 1.272979, 107.363510, 107.363510, 106.727021, 108.000000, 0.002708, 0.000000, 20, 0, 0.000000, 108.000000]])\n",
    "\n",
    "for line_list in new_data:\n",
    "#      line_list = line.split(',')\n",
    "     new_row = []\n",
    "     new_row.append(float(line_list[0]))\n",
    "     new_row.append(float(line_list[1]))\n",
    "     for i in range(2, len(line_list) - 2):\n",
    "          mm_index = i - 2\n",
    "          normalised_value = (float(line_list[i]) - min_values[mm_index])/(max_values[mm_index] - min_values[mm_index])\n",
    "          new_row.append(normalised_value)\n",
    "     new_row.append(float(line_list[len(line_list) - 2]))\n",
    "     desired_output = (float(line_list[len(line_list) - 1]) - 10)/(190 - 10)\n",
    "        \n",
    "#print(new_row)\n",
    "data = np.asarray(new_row)\n",
    "data = data[newaxis, :]\n",
    "\n",
    "print(data)\n",
    "\n",
    "print(desired_output)\n",
    "\n",
    "normalised_price = model.predict(np.asarray(data))\n",
    "print(normalised_price[0][0])\n",
    "price = (normalised_price * (190 - 10)) +  10\n",
    "\n",
    "print(\"Actual price = \" + str(new_data[0][-1]) + \"; Predicted price = \" + str(price[0][0]))\n"
   ]
  },
  {
   "cell_type": "code",
   "execution_count": 16,
   "metadata": {},
   "outputs": [],
   "source": [
    "model.save('DeepTraderv1_underfit.h5')"
   ]
  },
  {
   "cell_type": "code",
   "execution_count": 33,
   "metadata": {},
   "outputs": [
    {
     "name": "stdout",
     "output_type": "stream",
     "text": [
      "WARNING:tensorflow:Sequential models without an `input_shape` passed to the first layer cannot reload their optimizer state. As a result, your model isstarting with a freshly initialized optimizer.\n",
      "63764/63764 [==============================] - 4s 59us/sample - loss: 1.7157e-05\n"
     ]
    },
    {
     "data": {
      "text/plain": [
       "1.715695628211257e-05"
      ]
     },
     "execution_count": 33,
     "metadata": {},
     "output_type": "execute_result"
    }
   ],
   "source": [
    "new_model = tf.keras.models.load_model('DeepTraderv1.h5')\n",
    "\n",
    "new_model.evaluate(x_val,  y_val, verbose=1) "
   ]
  },
  {
   "cell_type": "code",
   "execution_count": 34,
   "metadata": {},
   "outputs": [
    {
     "data": {
      "text/plain": [
       "array([[0.5445725]], dtype=float32)"
      ]
     },
     "execution_count": 34,
     "metadata": {},
     "output_type": "execute_result"
    }
   ],
   "source": [
    "new_model.predict(np.asarray(data))"
   ]
  },
  {
   "cell_type": "code",
   "execution_count": null,
   "metadata": {},
   "outputs": [],
   "source": []
  }
 ],
 "metadata": {
  "kernelspec": {
   "display_name": "gputest",
   "language": "python",
   "name": "gputest"
  },
  "language_info": {
   "codemirror_mode": {
    "name": "ipython",
    "version": 3
   },
   "file_extension": ".py",
   "mimetype": "text/x-python",
   "name": "python",
   "nbconvert_exporter": "python",
   "pygments_lexer": "ipython3",
   "version": "3.7.7"
  }
 },
 "nbformat": 4,
 "nbformat_minor": 4
}
